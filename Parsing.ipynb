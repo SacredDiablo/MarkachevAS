{
 "cells": [
  {
   "cell_type": "markdown",
   "metadata": {},
   "source": [
    "# Чтение и запись данных. Часть 1\n",
    "\n",
    "## 1. Чтение текстовых файлов, файловые дескрипторы"
   ]
  },
  {
   "cell_type": "markdown",
   "metadata": {},
   "source": [
    "### 1.1\n",
    "\n",
    "**Простая задача** сформируйте объект класса dict, где ключ - это IP адрес, а значение - количество раз, которые этот ip встретился в тесте.\n",
    "\n",
    "*Результат выполнения*\n",
    "<pre>\n",
    "{'192.168.101.4': 1, '192.168.102.3': 2, '192.168.7.46': 1}\n",
    "</pre>"
   ]
  },
  {
   "cell_type": "code",
   "execution_count": 1,
   "metadata": {},
   "outputs": [
    {
     "name": "stdout",
     "output_type": "stream",
     "text": [
      "{'192.168.101.4': 1, '192.168.102.3': 2, '192.168.7.46': 1}\n"
     ]
    }
   ],
   "source": [
    "file_path = 'data/uwsgi.log'\n",
    "ip_counter = dict()\n",
    "\n",
    "with open(file_path, 'r', encoding='utf8') as f:\n",
    "    for row in f:\n",
    "        ip = row.split(' ')[0]\n",
    "        if ip !='\\n':\n",
    "            if not ip in ip_counter:\n",
    "                ip_counter[ip] = 1\n",
    "            else:\n",
    "                ip_counter[ip] += 1\n",
    "\n",
    "print(ip_counter)"
   ]
  },
  {
   "cell_type": "markdown",
   "metadata": {},
   "source": [
    "### 1.2\n",
    "**Задача среднего уровня** Распечатайте список URL, к которым происходил доступ. GET или POST параметры печатать не нужно.\n",
    "\n",
    "*Результат выполнения*\n",
    "<pre>\n",
    "/movie/is_personalizable/\n",
    "/logger/content/time/\n",
    "/movie/collection/items/recommendations/\n",
    "/movie/recommendations/\n",
    "</pre>"
   ]
  },
  {
   "cell_type": "code",
   "execution_count": 2,
   "metadata": {},
   "outputs": [
    {
     "name": "stdout",
     "output_type": "stream",
     "text": [
      "/movie/is_personalizable/\n",
      "/logger/content/time/\n",
      "/movie/collection/items/recommendations/\n",
      "/movie/recommendations/\n"
     ]
    }
   ],
   "source": [
    "file_path = 'data/uwsgi.log'\n",
    "\n",
    "with open(file_path, 'r', encoding='utf8') as f:\n",
    "    for row in f:\n",
    "        ### YOUR CODE HERE #\n",
    "        if len(row) > 1:\n",
    "            ip = row.split(' ')[6].split('?')[0]\n",
    "\n",
    "            print(ip)\n",
    "        pass"
   ]
  },
  {
   "cell_type": "markdown",
   "metadata": {},
   "source": [
    "### 1.3\n",
    "**Задача высокого уровня** Сформируйте объект класса dict, где ключ - это URL, а значение - это массив объектов python `datetime.datetime`: когда происходили запросы к этому URL.\n",
    "\n",
    "*Результат выполнения*\n",
    "<pre>\n",
    "{\n",
    "    '/movie/is_personalizable/': [datetime.datetime(2019, 2, 5, 21, 36, 7)],\n",
    "    '/logger/content/time/': [datetime.datetime(2019, 2, 5, 21, 36, 7)],\n",
    "    '/movie/collection/items/recommendations/': [datetime.datetime(2019, 2, 5, 21, 36, 7)],\n",
    "    '/movie/recommendations/': [datetime.datetime(2019, 2, 5, 21, 36, 7)]\n",
    "}\n",
    "</pre>"
   ]
  },
  {
   "cell_type": "code",
   "execution_count": 3,
   "metadata": {},
   "outputs": [
    {
     "name": "stdout",
     "output_type": "stream",
     "text": [
      "{'/movie/is_personalizable/': datetime.datetime(2019, 2, 5, 21, 36, 7), '/logger/content/time/': datetime.datetime(2019, 2, 5, 21, 36, 7), '/movie/collection/items/recommendations/': datetime.datetime(2019, 2, 5, 21, 36, 7), '/movie/recommendations/': datetime.datetime(2019, 2, 5, 21, 36, 7)}\n",
      "{}\n"
     ]
    }
   ],
   "source": [
    "#Вроде и вывод какой надо, но решение не правильное. Можете подсказать, куда копать? Или пример кода, чтобы разобраться ... \n",
    "import datetime\n",
    "from datetime import datetime\n",
    "import re\n",
    "file_path = 'data/uwsgi.log'\n",
    "\n",
    "access_dournal = dict()\n",
    "\n",
    "ip_counter = dict()\n",
    "\n",
    "with open(file_path, 'r', encoding='utf8') as f:\n",
    "    for row in f:\n",
    "        if len(row) > 1:\n",
    "            ip = row.split(' ')[6].split('?')[0]\n",
    "        ### YOUR CODE HERE ###\n",
    "            date = re.split('\\W+', row)[4:10]\n",
    "            ip_counter[ip] = datetime(int(date[2]), 2, int(date[0]), int(date[3]), \n",
    "                                int(date[4]), int(date[5]))\n",
    "\n",
    "print(ip_counter)\n",
    "print(access_dournal)"
   ]
  },
  {
   "cell_type": "markdown",
   "metadata": {},
   "source": [
    "## 2. Чтение csv файлов: модуль python csv"
   ]
  },
  {
   "cell_type": "markdown",
   "metadata": {},
   "source": [
    "### 2.1\n",
    "**Простая задача** Сформируйте словарь, в котором ключ - название столбца, а значение - массив записей в этом столбце.\n",
    "\n",
    "*Результат выполнения*\n",
    "<pre>\n",
    "{\n",
    "    'Код': ['HYDRA-535', 'HYDRA-534', 'HYDRA-532', 'HYDRA-531', 'HYDRA-530', 'HYDRA-527', 'HYDRA-524', 'HYDRA-523', 'HYDRA-520', 'HYDRA-519', 'HYDRA-518', 'HYDRA-517', 'HYDRA-514', 'HYDRA-513', 'HYDRA-511', 'HYDRA-510', 'HYDRA-509', 'HYDRA-507', 'HYDRA-506'],\n",
    "    'Тема': ['Пробрасывать пользовательское распределение paid_types в ехидну', 'Гибридный рекомендатель с multi-channel feedback', 'Джоба в дженкинсе для расчёта динамики РВП', 'Интеграция Hydra с Gamora', 'Тестируем интеграцию с Jira', 'Поправить функцию _get_ui_rec_matrix', 'Оптимизировать матрицу ItemFactors', 'Сортировка ЦПБ', 'Закостылить параметр top', \"Сделать 'stable' конфигом по умолчанию в Гидре\", 'Неудобно тестировать запись в redis', 'Улучшить рекомендации (первая итерация)', 'Добавить логирование в скрипты hydra/bin', 'Поправить storage_backend', 'Перемешивание рекомендаций для старых пользователей', 'Поправить скрипты bpr и и оценщика', 'Динамические персональные рекомендации', 'Навести порядок в prepare_data_for_hydra', 'Техдолг по логике /collection/recommendations/'],\n",
    "    'Компонент': ['echidna', 'hydra', 'hydramatrices', 'hydramagrices', 'hydra', 'hydra', 'hydra', 'hydra', 'hydra', 'hydra', 'hydramatrices', 'hydra', 'hydramagrices', 'hydramatrices', 'hydra', 'hydra_utils', 'hydra', 'hydramagrices', 'hydra'],\n",
    "    'Затрачено в часах': ['1', '3', '2', '4', '2', '10', '2', '5', '2', '2', '1', '7', '5', '2', '5', '16', '10', '3', '24']\n",
    "}\n",
    "</pre>"
   ]
  },
  {
   "cell_type": "code",
   "execution_count": 4,
   "metadata": {},
   "outputs": [
    {
     "name": "stdout",
     "output_type": "stream",
     "text": [
      "{'Код': ['HYDRA-535', 'HYDRA-534', 'HYDRA-532', 'HYDRA-531', 'HYDRA-530', 'HYDRA-527', 'HYDRA-524', 'HYDRA-523', 'HYDRA-520', 'HYDRA-519', 'HYDRA-518', 'HYDRA-517', 'HYDRA-514', 'HYDRA-513', 'HYDRA-511', 'HYDRA-510', 'HYDRA-509', 'HYDRA-507', 'HYDRA-506'], 'Тема': ['Пробрасывать пользовательское распределение paid_types в ехидну', 'Гибридный рекомендатель с multi-channel feedback', 'Джоба в дженкинсе для расчёта динамики РВП', 'Интеграция Hydra с Gamora', 'Тестируем интеграцию с Jira', 'Поправить функцию _get_ui_rec_matrix', 'Оптимизировать матрицу ItemFactors', 'Сортировка ЦПБ', 'Закостылить параметр top', \"Сделать 'stable' конфигом по умолчанию в Гидре\", 'Неудобно тестировать запись в redis', 'Улучшить рекомендации (первая итерация)', 'Добавить логирование в скрипты hydra/bin', 'Поправить storage_backend', 'Перемешивание рекомендаций для старых пользователей', 'Поправить скрипты bpr и и оценщика', 'Динамические персональные рекомендации', 'Навести порядок в prepare_data_for_hydra', 'Техдолг по логике /collection/recommendations/'], 'Компонент': ['echidna', 'hydra', 'hydramatrices', 'hydramagrices', 'hydra', 'hydra', 'hydra', 'hydra', 'hydra', 'hydra', 'hydramatrices', 'hydra', 'hydramagrices', 'hydramatrices', 'hydra', 'hydra_utils', 'hydra', 'hydramagrices', 'hydra'], 'Затрачено в часах': ['1', '3', '2', '4', '2', '10', '2', '5', '2', '2', '1', '7', '5', '2', '5', '16', '10', '3', '24']}\n"
     ]
    }
   ],
   "source": [
    "import csv\n",
    "columns_dict = dict()\n",
    "file_path = './data/task.csv'\n",
    "\n",
    "\n",
    "with open(file_path, newline='', encoding='utf8') as csvfile:\n",
    "    reader = csv.DictReader(csvfile)\n",
    "    for col_name in reader.fieldnames:\n",
    "        columns_dict[col_name] = []\n",
    "    for row in reader:\n",
    "        for i in columns_dict:\n",
    "            columns_dict[i] += [row[i]]\n",
    "        ### YOUR CODE HERE ###\n",
    "    pass\n",
    "\n",
    "print(columns_dict)"
   ]
  },
  {
   "cell_type": "markdown",
   "metadata": {},
   "source": [
    "### 2.2\n",
    "**Задача среднего уровня** Посчитайте статистику по колонке \"Затрачено в часах\" (это человеко-часы, затраченные на задачу) – максимальное значение, минимальное значение, среднее значение. Воспользуйтесь словарём `columns_dict` из задания 2.1\n",
    "\n",
    "*Результат выполнения*\n",
    "<pre>\n",
    "min_val=1, max_val=24, mean_val=5.578947368421052\n",
    "\n",
    "</pre>"
   ]
  },
  {
   "cell_type": "code",
   "execution_count": 5,
   "metadata": {},
   "outputs": [
    {
     "name": "stdout",
     "output_type": "stream",
     "text": [
      "min_val=1, max_val=7, mean_val=5.578947368421052\n"
     ]
    }
   ],
   "source": [
    "import numpy as np\n",
    "\n",
    "def mean(self):\n",
    "    c = 0\n",
    "    for i in range(len(self)):\n",
    "        c+= int(self[i])\n",
    "    \n",
    "    return c/len(self)\n",
    "min_val, max_val, mean_val = min(columns_dict['Затрачено в часах']), max(columns_dict['Затрачено в часах']), mean(columns_dict['Затрачено в часах'])\n",
    "\n",
    "### YOUR CODE HERE ###\n",
    "print(\"min_val={}, max_val={}, mean_val={}\".format(min_val, max_val, mean_val))\n",
    "\n",
    "#не получилось использовать np.mean, поэтому сделал через функцию"
   ]
  },
  {
   "cell_type": "markdown",
   "metadata": {},
   "source": [
    "### 2.3\n",
    "**Задача высокого уровня** Сколько человеко-часов было потрачено на задачи, в которых встречается слово \"рекомендации\" в любых формах, а сколько на остальные задачи (в процентах)?\n",
    "\n",
    "Подсказка - проверка на наличие нужного слова в тексте `txt` выглядит так:"
   ]
  },
  {
   "cell_type": "code",
   "execution_count": 6,
   "metadata": {},
   "outputs": [
    {
     "name": "stdout",
     "output_type": "stream",
     "text": [
      "True False\n"
     ]
    }
   ],
   "source": [
    "print('рек' in 'Я делаю рекомендательную систему', 'рек' in 'кек')"
   ]
  },
  {
   "cell_type": "markdown",
   "metadata": {},
   "source": [
    "*Результат выполнения*\n",
    "<pre>\n",
    "{'recs': 2, 'non_recs': 17}\n",
    "</pre>"
   ]
  },
  {
   "cell_type": "code",
   "execution_count": 7,
   "metadata": {},
   "outputs": [
    {
     "name": "stdout",
     "output_type": "stream",
     "text": [
      " Затрачено на выолнение рекомендуемых задач:  30.864197530864196 \n",
      " Затрачено на все остальное:  69.1358024691358\n",
      "{'recs': 1, 'non_recs': 2}\n"
     ]
    }
   ],
   "source": [
    "#в данном случае \"рек\" встречается только в различных формах слова рекомендации (рекомендатель ведь относится к ним?)\n",
    "file_path = './data/task.csv'\n",
    "task_recs_counter = {'recs': 1, 'non_recs': 2}\n",
    "\n",
    "with open(file_path, encoding='utf-8', newline='') as csvfile:\n",
    "    reader = csv.DictReader(csvfile)\n",
    "    rec = 0\n",
    "    non_rec = 0\n",
    "    for row in reader:\n",
    "        if 'рек' in row['Тема']:\n",
    "            rec+= int(row['Затрачено в часах'])\n",
    "        else: non_rec+= int(row['Затрачено в часах'])\n",
    "    print(' Затрачено на выолнение рекомендуемых задач: ', rec/non_rec*100, '\\n', 'Затрачено на все остальное: ',100 - rec/non_rec*100)     \n",
    "           \n",
    "               \n",
    "        ###  YOUR CODE HERE ###\n",
    "        \n",
    "\n",
    "print(task_recs_counter)"
   ]
  },
  {
   "cell_type": "code",
   "execution_count": 8,
   "metadata": {},
   "outputs": [
    {
     "data": {
      "text/plain": [
       "OrderedDict([('Код', 'HYDRA-506'),\n",
       "             ('Тема', 'Техдолг по логике /collection/recommendations/'),\n",
       "             ('Компонент', 'hydra'),\n",
       "             ('Затрачено в часах', '24')])"
      ]
     },
     "execution_count": 8,
     "metadata": {},
     "output_type": "execute_result"
    }
   ],
   "source": [
    "row"
   ]
  },
  {
   "cell_type": "markdown",
   "metadata": {},
   "source": [
    "## 3. Чтение csv файлов: модуль pandas"
   ]
  },
  {
   "cell_type": "markdown",
   "metadata": {},
   "source": [
    "### 3.1\n",
    "\n",
    "**Простое задание** добавьте столбец `num_tasks`, где отражено количество задач, выполненное внутри каждого компонента. Колонка `mean_val` со средним значением поля 'Затрачено в часах' уже добавлена в качестве примера.\n",
    "\n",
    "Чтобы выполнить задание, поправьте словарь `aggregation_json`"
   ]
  },
  {
   "cell_type": "code",
   "execution_count": 9,
   "metadata": {},
   "outputs": [
    {
     "name": "stderr",
     "output_type": "stream",
     "text": [
      "C:\\ProgramData\\Anaconda3\\envs\\xgboost\\lib\\site-packages\\pandas\\core\\groupby\\generic.py:1455: FutureWarning: using a dict with renaming is deprecated and will be removed\n",
      "in a future version.\n",
      "\n",
      "For column-specific groupby renaming, use named aggregation\n",
      "\n",
      "    >>> df.groupby(...).agg(name=('column', aggfunc))\n",
      "\n",
      "  return super().aggregate(arg, *args, **kwargs)\n"
     ]
    },
    {
     "data": {
      "text/html": [
       "<div>\n",
       "<style scoped>\n",
       "    .dataframe tbody tr th:only-of-type {\n",
       "        vertical-align: middle;\n",
       "    }\n",
       "\n",
       "    .dataframe tbody tr th {\n",
       "        vertical-align: top;\n",
       "    }\n",
       "\n",
       "    .dataframe thead th {\n",
       "        text-align: right;\n",
       "    }\n",
       "</style>\n",
       "<table border=\"1\" class=\"dataframe\">\n",
       "  <thead>\n",
       "    <tr style=\"text-align: right;\">\n",
       "      <th></th>\n",
       "      <th>mean_val</th>\n",
       "      <th>num_tasks</th>\n",
       "    </tr>\n",
       "    <tr>\n",
       "      <th>Компонент</th>\n",
       "      <th></th>\n",
       "      <th></th>\n",
       "    </tr>\n",
       "  </thead>\n",
       "  <tbody>\n",
       "    <tr>\n",
       "      <th>echidna</th>\n",
       "      <td>1.000000</td>\n",
       "      <td>1</td>\n",
       "    </tr>\n",
       "    <tr>\n",
       "      <th>hydra</th>\n",
       "      <td>6.545455</td>\n",
       "      <td>11</td>\n",
       "    </tr>\n",
       "    <tr>\n",
       "      <th>hydra_utils</th>\n",
       "      <td>16.000000</td>\n",
       "      <td>1</td>\n",
       "    </tr>\n",
       "    <tr>\n",
       "      <th>hydramagrices</th>\n",
       "      <td>4.000000</td>\n",
       "      <td>3</td>\n",
       "    </tr>\n",
       "    <tr>\n",
       "      <th>hydramatrices</th>\n",
       "      <td>1.666667</td>\n",
       "      <td>3</td>\n",
       "    </tr>\n",
       "  </tbody>\n",
       "</table>\n",
       "</div>"
      ],
      "text/plain": [
       "                mean_val  num_tasks\n",
       "Компонент                          \n",
       "echidna         1.000000          1\n",
       "hydra           6.545455         11\n",
       "hydra_utils    16.000000          1\n",
       "hydramagrices   4.000000          3\n",
       "hydramatrices   1.666667          3"
      ]
     },
     "execution_count": 9,
     "metadata": {},
     "output_type": "execute_result"
    }
   ],
   "source": [
    "import numpy as np\n",
    "import pandas as pd\n",
    "\n",
    "file_path = './data/task.csv'\n",
    "\n",
    "df = pd.read_csv(file_path)\n",
    "\n",
    "### YOUR CODE HERE ###\n",
    "aggregation_json = {\n",
    " 'Затрачено в часах': {\n",
    "  'mean_val': np.mean,\n",
    "  'num_tasks': 'count'}\n",
    "}\n",
    "\n",
    "df.groupby(by=['Компонент'])[['Затрачено в часах']].aggregate(aggregation_json)"
   ]
  },
  {
   "cell_type": "code",
   "execution_count": 10,
   "metadata": {},
   "outputs": [
    {
     "data": {
      "text/html": [
       "<div>\n",
       "<style scoped>\n",
       "    .dataframe tbody tr th:only-of-type {\n",
       "        vertical-align: middle;\n",
       "    }\n",
       "\n",
       "    .dataframe tbody tr th {\n",
       "        vertical-align: top;\n",
       "    }\n",
       "\n",
       "    .dataframe thead th {\n",
       "        text-align: right;\n",
       "    }\n",
       "</style>\n",
       "<table border=\"1\" class=\"dataframe\">\n",
       "  <thead>\n",
       "    <tr style=\"text-align: right;\">\n",
       "      <th></th>\n",
       "      <th>Код</th>\n",
       "      <th>Тема</th>\n",
       "      <th>Компонент</th>\n",
       "      <th>Затрачено в часах</th>\n",
       "    </tr>\n",
       "  </thead>\n",
       "  <tbody>\n",
       "    <tr>\n",
       "      <th>0</th>\n",
       "      <td>HYDRA-535</td>\n",
       "      <td>Пробрасывать пользовательское распределение pa...</td>\n",
       "      <td>echidna</td>\n",
       "      <td>1</td>\n",
       "    </tr>\n",
       "    <tr>\n",
       "      <th>1</th>\n",
       "      <td>HYDRA-534</td>\n",
       "      <td>Гибридный рекомендатель с multi-channel feedback</td>\n",
       "      <td>hydra</td>\n",
       "      <td>3</td>\n",
       "    </tr>\n",
       "    <tr>\n",
       "      <th>2</th>\n",
       "      <td>HYDRA-532</td>\n",
       "      <td>Джоба в дженкинсе для расчёта динамики РВП</td>\n",
       "      <td>hydramatrices</td>\n",
       "      <td>2</td>\n",
       "    </tr>\n",
       "    <tr>\n",
       "      <th>3</th>\n",
       "      <td>HYDRA-531</td>\n",
       "      <td>Интеграция Hydra с Gamora</td>\n",
       "      <td>hydramagrices</td>\n",
       "      <td>4</td>\n",
       "    </tr>\n",
       "    <tr>\n",
       "      <th>4</th>\n",
       "      <td>HYDRA-530</td>\n",
       "      <td>Тестируем интеграцию с Jira</td>\n",
       "      <td>hydra</td>\n",
       "      <td>2</td>\n",
       "    </tr>\n",
       "    <tr>\n",
       "      <th>5</th>\n",
       "      <td>HYDRA-527</td>\n",
       "      <td>Поправить функцию _get_ui_rec_matrix</td>\n",
       "      <td>hydra</td>\n",
       "      <td>10</td>\n",
       "    </tr>\n",
       "    <tr>\n",
       "      <th>6</th>\n",
       "      <td>HYDRA-524</td>\n",
       "      <td>Оптимизировать матрицу ItemFactors</td>\n",
       "      <td>hydra</td>\n",
       "      <td>2</td>\n",
       "    </tr>\n",
       "    <tr>\n",
       "      <th>7</th>\n",
       "      <td>HYDRA-523</td>\n",
       "      <td>Сортировка ЦПБ</td>\n",
       "      <td>hydra</td>\n",
       "      <td>5</td>\n",
       "    </tr>\n",
       "    <tr>\n",
       "      <th>8</th>\n",
       "      <td>HYDRA-520</td>\n",
       "      <td>Закостылить параметр top</td>\n",
       "      <td>hydra</td>\n",
       "      <td>2</td>\n",
       "    </tr>\n",
       "    <tr>\n",
       "      <th>9</th>\n",
       "      <td>HYDRA-519</td>\n",
       "      <td>Сделать 'stable' конфигом по умолчанию в Гидре</td>\n",
       "      <td>hydra</td>\n",
       "      <td>2</td>\n",
       "    </tr>\n",
       "    <tr>\n",
       "      <th>10</th>\n",
       "      <td>HYDRA-518</td>\n",
       "      <td>Неудобно тестировать запись в redis</td>\n",
       "      <td>hydramatrices</td>\n",
       "      <td>1</td>\n",
       "    </tr>\n",
       "    <tr>\n",
       "      <th>11</th>\n",
       "      <td>HYDRA-517</td>\n",
       "      <td>Улучшить рекомендации (первая итерация)</td>\n",
       "      <td>hydra</td>\n",
       "      <td>7</td>\n",
       "    </tr>\n",
       "    <tr>\n",
       "      <th>12</th>\n",
       "      <td>HYDRA-514</td>\n",
       "      <td>Добавить логирование в скрипты hydra/bin</td>\n",
       "      <td>hydramagrices</td>\n",
       "      <td>5</td>\n",
       "    </tr>\n",
       "    <tr>\n",
       "      <th>13</th>\n",
       "      <td>HYDRA-513</td>\n",
       "      <td>Поправить storage_backend</td>\n",
       "      <td>hydramatrices</td>\n",
       "      <td>2</td>\n",
       "    </tr>\n",
       "    <tr>\n",
       "      <th>14</th>\n",
       "      <td>HYDRA-511</td>\n",
       "      <td>Перемешивание рекомендаций для старых пользова...</td>\n",
       "      <td>hydra</td>\n",
       "      <td>5</td>\n",
       "    </tr>\n",
       "    <tr>\n",
       "      <th>15</th>\n",
       "      <td>HYDRA-510</td>\n",
       "      <td>Поправить скрипты bpr и и оценщика</td>\n",
       "      <td>hydra_utils</td>\n",
       "      <td>16</td>\n",
       "    </tr>\n",
       "    <tr>\n",
       "      <th>16</th>\n",
       "      <td>HYDRA-509</td>\n",
       "      <td>Динамические персональные рекомендации</td>\n",
       "      <td>hydra</td>\n",
       "      <td>10</td>\n",
       "    </tr>\n",
       "    <tr>\n",
       "      <th>17</th>\n",
       "      <td>HYDRA-507</td>\n",
       "      <td>Навести порядок в prepare_data_for_hydra</td>\n",
       "      <td>hydramagrices</td>\n",
       "      <td>3</td>\n",
       "    </tr>\n",
       "    <tr>\n",
       "      <th>18</th>\n",
       "      <td>HYDRA-506</td>\n",
       "      <td>Техдолг по логике /collection/recommendations/</td>\n",
       "      <td>hydra</td>\n",
       "      <td>24</td>\n",
       "    </tr>\n",
       "  </tbody>\n",
       "</table>\n",
       "</div>"
      ],
      "text/plain": [
       "          Код                                               Тема  \\\n",
       "0   HYDRA-535  Пробрасывать пользовательское распределение pa...   \n",
       "1   HYDRA-534   Гибридный рекомендатель с multi-channel feedback   \n",
       "2   HYDRA-532         Джоба в дженкинсе для расчёта динамики РВП   \n",
       "3   HYDRA-531                          Интеграция Hydra с Gamora   \n",
       "4   HYDRA-530                        Тестируем интеграцию с Jira   \n",
       "5   HYDRA-527               Поправить функцию _get_ui_rec_matrix   \n",
       "6   HYDRA-524                 Оптимизировать матрицу ItemFactors   \n",
       "7   HYDRA-523                                     Сортировка ЦПБ   \n",
       "8   HYDRA-520                           Закостылить параметр top   \n",
       "9   HYDRA-519     Сделать 'stable' конфигом по умолчанию в Гидре   \n",
       "10  HYDRA-518                Неудобно тестировать запись в redis   \n",
       "11  HYDRA-517            Улучшить рекомендации (первая итерация)   \n",
       "12  HYDRA-514           Добавить логирование в скрипты hydra/bin   \n",
       "13  HYDRA-513                          Поправить storage_backend   \n",
       "14  HYDRA-511  Перемешивание рекомендаций для старых пользова...   \n",
       "15  HYDRA-510                 Поправить скрипты bpr и и оценщика   \n",
       "16  HYDRA-509             Динамические персональные рекомендации   \n",
       "17  HYDRA-507           Навести порядок в prepare_data_for_hydra   \n",
       "18  HYDRA-506     Техдолг по логике /collection/recommendations/   \n",
       "\n",
       "        Компонент  Затрачено в часах  \n",
       "0         echidna                  1  \n",
       "1           hydra                  3  \n",
       "2   hydramatrices                  2  \n",
       "3   hydramagrices                  4  \n",
       "4           hydra                  2  \n",
       "5           hydra                 10  \n",
       "6           hydra                  2  \n",
       "7           hydra                  5  \n",
       "8           hydra                  2  \n",
       "9           hydra                  2  \n",
       "10  hydramatrices                  1  \n",
       "11          hydra                  7  \n",
       "12  hydramagrices                  5  \n",
       "13  hydramatrices                  2  \n",
       "14          hydra                  5  \n",
       "15    hydra_utils                 16  \n",
       "16          hydra                 10  \n",
       "17  hydramagrices                  3  \n",
       "18          hydra                 24  "
      ]
     },
     "execution_count": 10,
     "metadata": {},
     "output_type": "execute_result"
    }
   ],
   "source": [
    "df"
   ]
  },
  {
   "cell_type": "markdown",
   "metadata": {},
   "source": [
    "### 3.2\n",
    "**Задание среднего уровня** Добавьте (в виде `list`) для каждого компонента набор задач, который был в этом компоненте выполнен (идентификаторы содержатся в поле \"Код\"). Для этого замените `.aggregate()` на `.apply(list)`\n",
    "\n",
    "Пример:"
   ]
  },
  {
   "cell_type": "code",
   "execution_count": 11,
   "metadata": {},
   "outputs": [
    {
     "name": "stdout",
     "output_type": "stream",
     "text": [
      "Исходный DataFrame:\n",
      "  key  val\n",
      "0   a    1\n",
      "1   a    2\n",
      "Применяем apply:\n"
     ]
    },
    {
     "data": {
      "text/plain": [
       "key\n",
       "a    [1, 2]\n",
       "Name: val, dtype: object"
      ]
     },
     "execution_count": 11,
     "metadata": {},
     "output_type": "execute_result"
    }
   ],
   "source": [
    "import pandas as pd\n",
    "\n",
    "print('Исходный DataFrame:')\n",
    "a = pd.DataFrame({'key':['a', 'a'], 'val':[1, 2]})\n",
    "print(a)\n",
    "print('Применяем apply:')\n",
    "a.groupby('key')['val'].apply(list)"
   ]
  },
  {
   "cell_type": "markdown",
   "metadata": {},
   "source": [
    "Результат выполнения\n",
    "\n",
    "<pre>\n",
    "Компонент\n",
    "echidna                                                [HYDRA-535]\n",
    "hydra            [HYDRA-534, HYDRA-530, HYDRA-527, HYDRA-524, H...\n",
    "hydra_utils                                            [HYDRA-510]\n",
    "hydramagrices                    [HYDRA-531, HYDRA-514, HYDRA-507]\n",
    "hydramatrices                    [HYDRA-532, HYDRA-518, HYDRA-513]\n",
    "</pre>"
   ]
  },
  {
   "cell_type": "code",
   "execution_count": 12,
   "metadata": {},
   "outputs": [
    {
     "data": {
      "text/plain": [
       "Компонент\n",
       "echidna                                                [HYDRA-535]\n",
       "hydra            [HYDRA-534, HYDRA-530, HYDRA-527, HYDRA-524, H...\n",
       "hydra_utils                                            [HYDRA-510]\n",
       "hydramagrices                    [HYDRA-531, HYDRA-514, HYDRA-507]\n",
       "hydramatrices                    [HYDRA-532, HYDRA-518, HYDRA-513]\n",
       "Name: Код, dtype: object"
      ]
     },
     "execution_count": 12,
     "metadata": {},
     "output_type": "execute_result"
    }
   ],
   "source": [
    "### YOUR CODE HERE ###\n",
    "codes_list_df = pd.DataFrame()\n",
    "codes_list_df = df.groupby('Компонент')['Код'].apply(list)\n",
    "codes_list_df.head()"
   ]
  },
  {
   "cell_type": "markdown",
   "metadata": {},
   "source": [
    "### 3.3\n",
    "**Задание высокого уровня** Составьте DataFrame с двумя колонками: среднее время на задачу и список задач `codes_list_df` внутри каждого \"Компонента\". Подсказка: подготовьте два датафрейма и используйте [функцию merge](https://pandas.pydata.org/pandas-docs/stable/reference/api/pandas.DataFrame.merge.html)"
   ]
  },
  {
   "cell_type": "code",
   "execution_count": 13,
   "metadata": {},
   "outputs": [],
   "source": [
    "### YOUR CODE HERE ###\n",
    "aggregation_json = {\n",
    " 'Затрачено в часах': {'mean_val': np.mean}\n",
    "}\n",
    "fl = df.groupby(by=['Компонент'])[['Затрачено в часах']].aggregate(aggregation_json)"
   ]
  },
  {
   "cell_type": "code",
   "execution_count": 14,
   "metadata": {},
   "outputs": [],
   "source": [
    "result = pd.merge(codes_list_df, fl, on ='Компонент')"
   ]
  },
  {
   "cell_type": "code",
   "execution_count": 15,
   "metadata": {},
   "outputs": [
    {
     "data": {
      "text/html": [
       "<div>\n",
       "<style scoped>\n",
       "    .dataframe tbody tr th:only-of-type {\n",
       "        vertical-align: middle;\n",
       "    }\n",
       "\n",
       "    .dataframe tbody tr th {\n",
       "        vertical-align: top;\n",
       "    }\n",
       "\n",
       "    .dataframe thead th {\n",
       "        text-align: right;\n",
       "    }\n",
       "</style>\n",
       "<table border=\"1\" class=\"dataframe\">\n",
       "  <thead>\n",
       "    <tr style=\"text-align: right;\">\n",
       "      <th></th>\n",
       "      <th>Код</th>\n",
       "      <th>mean_val</th>\n",
       "    </tr>\n",
       "    <tr>\n",
       "      <th>Компонент</th>\n",
       "      <th></th>\n",
       "      <th></th>\n",
       "    </tr>\n",
       "  </thead>\n",
       "  <tbody>\n",
       "    <tr>\n",
       "      <th>echidna</th>\n",
       "      <td>[HYDRA-535]</td>\n",
       "      <td>1.000000</td>\n",
       "    </tr>\n",
       "    <tr>\n",
       "      <th>hydra</th>\n",
       "      <td>[HYDRA-534, HYDRA-530, HYDRA-527, HYDRA-524, H...</td>\n",
       "      <td>6.545455</td>\n",
       "    </tr>\n",
       "    <tr>\n",
       "      <th>hydra_utils</th>\n",
       "      <td>[HYDRA-510]</td>\n",
       "      <td>16.000000</td>\n",
       "    </tr>\n",
       "    <tr>\n",
       "      <th>hydramagrices</th>\n",
       "      <td>[HYDRA-531, HYDRA-514, HYDRA-507]</td>\n",
       "      <td>4.000000</td>\n",
       "    </tr>\n",
       "    <tr>\n",
       "      <th>hydramatrices</th>\n",
       "      <td>[HYDRA-532, HYDRA-518, HYDRA-513]</td>\n",
       "      <td>1.666667</td>\n",
       "    </tr>\n",
       "  </tbody>\n",
       "</table>\n",
       "</div>"
      ],
      "text/plain": [
       "                                                             Код   mean_val\n",
       "Компонент                                                                  \n",
       "echidna                                              [HYDRA-535]   1.000000\n",
       "hydra          [HYDRA-534, HYDRA-530, HYDRA-527, HYDRA-524, H...   6.545455\n",
       "hydra_utils                                          [HYDRA-510]  16.000000\n",
       "hydramagrices                  [HYDRA-531, HYDRA-514, HYDRA-507]   4.000000\n",
       "hydramatrices                  [HYDRA-532, HYDRA-518, HYDRA-513]   1.666667"
      ]
     },
     "execution_count": 15,
     "metadata": {},
     "output_type": "execute_result"
    }
   ],
   "source": [
    "result"
   ]
  },
  {
   "cell_type": "markdown",
   "metadata": {},
   "source": [
    "## 4.  Работа с данными формата HTML"
   ]
  },
  {
   "cell_type": "markdown",
   "metadata": {},
   "source": [
    "### 4.1\n",
    "**Задание простого уровня** Распечатайте список курсов по программированию от Skillbox."
   ]
  },
  {
   "cell_type": "code",
   "execution_count": 16,
   "metadata": {},
   "outputs": [
    {
     "name": "stdout",
     "output_type": "stream",
     "text": [
      "[<Element b at 0x1a566c1f1d8>, <Element b at 0x1a566c4e048>, <Element b at 0x1a566c1a228>, <Element b at 0x1a56715cc78>, <Element b at 0x1a566c243b8>, <Element b at 0x1a566c24368>, <Element b at 0x1a566c242c8>, <Element b at 0x1a566c24278>]\n",
      "\n",
      "      Веб-разработчик c 0 до PRO\n",
      "    \n",
      "      Java-разработчик\n",
      "    \n",
      "      Python-разработчик\n",
      "    \n",
      "      Аналитик данных на Python\n",
      "    \n",
      "      Frontend-разработчик\n",
      "    \n",
      "      PHP-разработчик c 0 до PRO\n",
      "    \n",
      "      Мобильный разработчик PRO\n",
      "    \n",
      "      JavaScript-фреймворк Vue.js\n",
      "    "
     ]
    }
   ],
   "source": [
    "import requests\n",
    "from lxml import html\n",
    "\n",
    "page = requests.get('https://skillbox.ru/courses/code').text\n",
    "\n",
    "html_tree = html.fromstring(page)\n",
    "items = html_tree.xpath(\"//div[contains(@class, '{}')]//b\".format('courses-list'))\n",
    "print(items)\n",
    "for item in items:\n",
    "        print(item.text_content(), end = '')"
   ]
  },
  {
   "cell_type": "markdown",
   "metadata": {},
   "source": [
    "### 4.2\n",
    "\n",
    "**Задание среднего уровня**. Выведите список всех курсов Skillbox по программированию, дизайну, маркетингу и управлению. Добавьте к каждому курсу ссылку http на этот курс на сайте Skillbox."
   ]
  },
  {
   "cell_type": "markdown",
   "metadata": {},
   "source": [
    "*Результат выполнения*\n",
    "<pre>\n",
    "Курс: Веб-дизайн с нуля до PRO  link:  https://skillbox.ru/webdesign/\n",
    "Курс: Рекламная графика  link:  https://skillbox.ru/cpeople/\n",
    "Курс: UX-дизайн  link:  https://skillbox.ru/aic/\n",
    "</pre>"
   ]
  },
  {
   "cell_type": "code",
   "execution_count": 17,
   "metadata": {},
   "outputs": [
    {
     "name": "stdout",
     "output_type": "stream",
     "text": [
      "Курс:  Веб-разработчик c 0 до PRO link:  https://course.skillbox.ru/webdev/\n",
      "Курс:  Java-разработчик link:  https://skillbox.ru/course/java/\n",
      "Курс:  Python-разработчик link:  https://skillbox.ru/course/python/\n",
      "Курс:  Аналитик данных на Python link:  https://skillbox.ru/python-data/\n",
      "Курс:  Frontend-разработчик link:  https://skillbox.ru/course/frontend-developer/\n",
      "Курс:  PHP-разработчик c 0 до PRO link:  https://skillbox.ru/course/php/\n",
      "Курс:  Мобильный разработчик PRO link:  https://skillbox.ru/agima/\n",
      "Курс:  JavaScript-фреймворк Vue.js link:  https://skillbox.ru/course/vue-js/\n",
      "Курс:  Веб-дизайн с 0 до PRO link:  https://skillbox.ru/course/webdesign/\n",
      "Курс:  Cinema4D link:  https://skillbox.ru/course/cinema4d/\n",
      "Курс:  Дизайн мобильных приложений с 0 до PRO link:  https://skillbox.ru/course/app-design-pro/\n",
      "Курс:  Дизайн интерьеров с 0 до PRO link:  https://skillbox.ru/course/interiordesigner/\n",
      "Курс:  UX-дизайн с Майклом Джандой link:  https://janda.skillbox.ru/\n",
      "Курс:  Photoshop link:  https://skillbox.ru/photoshoppro/\n",
      "Курс:  Sound design link:  https://skillbox.ru/course/sound-designer/\n",
      "Курс:  Motion Design с 0 до PRO link:  https://course.skillbox.ru/motion-design\n",
      "Курс:  UX-дизайн link:  https://skillbox.ru/course/uxdesign/\n",
      "Курс:  Archicad link:  https://course.skillbox.ru/archicad\n",
      "Курс:  Анимация интерфейсов link:  https://skillbox.ru/course/motion/\n",
      "Курс:  Рекламная графика link:  https://skillbox.ru/course/cpeople/\n",
      "Курс:  Визуализация в 3ds Max и V-Ray link:  https://skillbox.ru/course/3d-max-visualisation/\n",
      "Курс:  Дизайнер сайтов на Tilda link:  https://course.skillbox.ru/tilda\n",
      "Курс:  Дизайн коммерческих интерьеров с 0 до PRO link:  https://skillbox.ru/course/commercial-design/\n",
      "Курс:  Экспресс-курс «Дизайнер сайтов» link:  https://skillbox.ru/course/redcollar/\n",
      "Курс:  Графический дизайнер с нуля до PRO link:  https://skillbox.ru/course/graphic-design/\n",
      "Курс:  Ableton Live c 0 до PRO link:  https://skillbox.ru/course/ableton-live/\n",
      "Курс:  Брендинг и бренд-дизайн link:  https://skillbox.ru/course/branding/\n",
      "Курс:  Скетчинг для дизайнеров link:  https://skillbox.ru/course/sketching/\n",
      "Курс:  3D Max для дизайнеров интерьера link:  https://skillbox.ru/course/3d-max/\n",
      "Курс:  Фриланс для дизайнера link:  https://skillbox.ru/course/freelancer/\n",
      "Курс:  Скетчинг на iPad link:  https://skillbox.ru/course/ipad-sketching/\n",
      "Курс:  Adobe XD link:  https://skillbox.ru/course/adobexd/\n",
      "Курс:  3D-моделирование в Zbrush с нуля link:  https://skillbox.ru/course/zbrush/\n",
      "Курс:  Дизайнер логотипа и фирменного стиля link:  https://course.skillbox.ru/logodesign\n",
      "Курс:  After Effects с 0 до PRO link:  https://course.skillbox.ru/after-effects\n",
      "Курс:  Управление дизайн-командами и арт-дирекшн link:  https://new.skillbox.ru/artdirector\n",
      "Курс:  3D-моделирование для начинающих link:  https://skillbox.ru/course/3d/\n",
      "Курс:  Figma link:  https://skillbox.ru/course/figma/\n",
      "Курс:  Sketch link:  https://skillbox.ru/course/sketchapp/\n",
      "Курс:  Шрифт в дизайне link:  https://new.skillbox.ru/paratype\n",
      "Курс:  Веб-аналитика от Ingate link:  https://skillbox.ru/course/web-analytic-ingate/\n",
      "Курс:  Копирайтинг от А до Я link:  https://skillbox.ru/course/copywriter/\n",
      "Курс:  Интернет-маркетолог с 0 link:  https://skillbox.ru/course/marketolog/\n",
      "Курс:  SMM-маркетолог от А до Я link:  https://skillbox.ru/course/smm/\n",
      "Курс:  Контекстная реклама от А до Я link:  https://skillbox.ru/course/ppc/\n",
      "Курс:  Таргетолог link:  https://skillbox.ru/targetolog/\n",
      "Курс:  SEO-специалист link:  https://course.skillbox.ru/seo-specialist/\n",
      "Курс:  Digital-стратег link:  https://course.skillbox.ru/digitalstrategy\n",
      "Курс:  Event killer link:  https://course.skillbox.ru/event-killer\n",
      "Курс:  Performance-маркетинг link:  https://skillbox.ru/course/performance-mark/\n",
      "Курс:  Управление репутацией бренда в сети link:  https://skillbox.ru/course/reputation/\n",
      "Курс:  Продвижение в Инстаграм link:  https://skillbox.ru/instagram/\n",
      "Курс:  Как делать контент для YouTube link:  https://skillbox.ru/blogger/\n",
      "Курс:  Сквозная аналитика link:  https://skillbox.ru/end-to-end/\n",
      "Курс:  CRM-маркетолог link:  https://course.skillbox.ru/crm-marketolog\n",
      "Курс:  PR-менеджер от PRT link:  https://skillbox.ru/course/prmanager/\n",
      "Курс:  Интернет-маркетолог от Ingate link:  https://skillbox.ru/marketolog/\n",
      "Курс:  Управление продуктом link:  https://course.skillbox.ru/product-management\n",
      "Курс:  Управление проектами link:  https://skillbox.ru/course/itproject/\n",
      "Курс:  Руководитель digital-проектов link:  https://course.skillbox.ru/sibirix-managment/\n",
      "Курс:  Менеджмент и маркетинг в индустрии спорта link:  https://course.skillbox.ru/sportmanagement/\n",
      "Курс:  Мастер презентации link:  https://skillbox.ru/course/presentation-master/\n",
      "Курс:  Продюсер онлайн-курсов link:  https://skillbox.ru/producer/\n",
      "Курс:  Как открыть и развивать веб‑студию link:  https://skillbox.ru/course/studio/\n",
      "Курс:  Эффективное партнерство в бизнесе link:  https://skillbox.ru/course/partnership/\n",
      "Курс:  Excel + Google-таблицы с нуля до PRO link:  https://skillbox.ru/course/excel-gsheets/\n",
      "Курс:  Менеджмент в индустрии красоты link:  https://skillbox.ru/course/beauty-industry/\n",
      "Курс:  Управление командами link:  https://skillbox.ru/course/team-management/\n",
      "Курс:  Продвижение и продажи в digital-агентстве link:  https://skillbox.ru/course/digital-sales/\n",
      "Курс:  PowerPoint и Google Презентации link:  https://skillbox.ru/course/powerpoint-gslides/\n",
      "Курс:  MS Office и Google Office с нуля до PRO link:  https://skillbox.ru/course/msoffice/\n",
      "Курс:  Финансовая грамотность link:  https://skillbox.ru/course/finance/\n"
     ]
    }
   ],
   "source": [
    "### YOUR CODE HERE ###\n",
    "page_name = ['code','design','marketing','management']\n",
    "for i in page_name:\n",
    "    page = requests.get('https://skillbox.ru/courses/' + i).text\n",
    "    html_tree = html.fromstring(page)\n",
    "    items = html_tree.xpath(\"//div[contains(@class, '{}')]//a\".format('courses-list'))\n",
    "    for item in items:\n",
    "        print('Курс: ', item.text_content().strip().split(\"\\n\")[0], 'link: ', item.get('href'))\n",
    "    "
   ]
  },
  {
   "cell_type": "markdown",
   "metadata": {},
   "source": [
    "### 4.3\n",
    "**Задание высокого уровня**. Напишите код, который переходит по ссылкам на страницы курсов по программированию из предыдущего задания и распечатывает описание курса."
   ]
  },
  {
   "cell_type": "code",
   "execution_count": 18,
   "metadata": {
    "scrolled": true
   },
   "outputs": [
    {
     "name": "stdout",
     "output_type": "stream",
     "text": [
      "https://course.skillbox.ru/webdev/\n",
      "['Онлайн-курс Веб-разработчик c 0 до PRO Skillbox: стань специалистом по Веб-разработке. Обучение на Веб-разработчика в Москве, Санкт-Петербурге и в любом регионе РФ с сертификатом и помощью в трудоустройстве.']\n",
      "https://skillbox.ru/course/java/\n",
      "['Онлайн-курс Java-разработчик Skillbox: стань специалистом по Java. Обучение на Java-разработчика в Москве, Санкт-Петербурге и в любом регионе РФ с сертификатом и помощью в трудоустройстве.']\n",
      "https://skillbox.ru/course/python/\n",
      "['Онлайн-курс Python-разработчик Skillbox: стань специалистом по Python. Обучение на Python-разработчика в Москве, Санкт-Петербурге и в любом регионе РФ с сертификатом и помощью в трудоустройстве.']\n",
      "https://skillbox.ru/python-data/\n",
      "['Онлайн-курс Аналитик данных на Python Skillbox: стань специалистом по Аналитике данных на Python. Обучение на Аналитика данных на Python в Москве, Санкт-Петербурге и в любом регионе РФ с сертификатом и помощью в трудоустройстве.']\n",
      "https://skillbox.ru/course/frontend-developer/\n",
      "['Онлайн-курс Frontend-разработчик Skillbox: стань специалистом по Frontend-разработке. Обучение на Frontend-разработчика в Москве, Санкт-Петербурге и в любом регионе РФ с сертификатом и помощью в трудоустройстве.']\n",
      "https://skillbox.ru/course/php/\n",
      "['Онлайн-курс PHP-разработчик c 0 до PRO Skillbox: стань специалистом по PHP. Обучение на PHP-разработчика в Москве, Санкт-Петербурге и в любом регионе РФ с сертификатом и помощью в трудоустройстве.']\n",
      "https://skillbox.ru/agima/\n",
      "['Освойте все современные инструменты, создайте собственное мобильное &nbsp;приложение, опубликуйте его в App Store и Google Play и добавьте в портфолио.']\n",
      "https://skillbox.ru/course/vue-js/\n",
      "['Курс для практикующих веб- и frontend-разработчиков. Расширьте свои компетенции, изучив трендовый фреймворк Vue.js.']\n"
     ]
    }
   ],
   "source": [
    "import requests\n",
    "\n",
    "page = requests.get('https://skillbox.ru/courses/code').text\n",
    "html_tree = html.fromstring(page)\n",
    "items = html_tree.xpath(\"//div[contains(@class, '{}')]//a\".format('courses-list'))\n",
    "for item in items:\n",
    "    link = item.get('href')\n",
    "    print(link)\n",
    "    new_page = requests.get(link).text\n",
    "    new_html_tree = html.fromstring(new_page)\n",
    "    print(new_html_tree.xpath(\"/html/head/meta[@name='description']/@content\"))\n"
   ]
  }
 ],
 "metadata": {
  "kernelspec": {
   "display_name": "Python 3",
   "language": "python",
   "name": "python3"
  },
  "language_info": {
   "codemirror_mode": {
    "name": "ipython",
    "version": 3
   },
   "file_extension": ".py",
   "mimetype": "text/x-python",
   "name": "python",
   "nbconvert_exporter": "python",
   "pygments_lexer": "ipython3",
   "version": "3.6.9"
  }
 },
 "nbformat": 4,
 "nbformat_minor": 2
}
